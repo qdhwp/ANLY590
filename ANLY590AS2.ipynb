{
  "nbformat": 4,
  "nbformat_minor": 0,
  "metadata": {
    "colab": {
      "name": "HW2.ipynb",
      "version": "0.3.2",
      "provenance": [],
      "collapsed_sections": []
    },
    "kernelspec": {
      "name": "python3",
      "display_name": "Python 3"
    },
    "accelerator": "TPU"
  },
  "cells": [
    {
      "metadata": {
        "collapsed": true,
        "id": "WBZ52c0wFJLp",
        "colab_type": "text"
      },
      "cell_type": "markdown",
      "source": [
        "# 1 Autoencoder\n",
        "\n",
        "Build and fit a convolutional autoencoder for the Fashion MNIST dataset. \n",
        "\n",
        "- The components of this network will be many of the same pieces we’ve used with convolutional classification    networks: Conv2D, MaxPooling, and so on. \n",
        "- The encoder part of the network should run the input image through a few convolutional layers of your choice. \n",
        "- The decoder part ofthe network will utilize UpSampling2D to get the representation back to the original image size.\n",
        "- After training your network, visualize some examples of input images and their decoded reconstruction."
      ]
    },
    {
      "metadata": {
        "id": "1lxCGWKqFJLr",
        "colab_type": "code",
        "colab": {
          "base_uri": "https://localhost:8080/",
          "height": 224
        },
        "outputId": "f0bd81ce-b4f5-41d4-8614-7bc65b629d97"
      },
      "cell_type": "code",
      "source": [
        "import tensorflow as tf\n",
        "import matplotlib.pyplot as plt\n",
        "from keras.datasets import fashion_mnist\n",
        "from keras.utils import np_utils\n",
        "%matplotlib inline\n",
        "(x_train, y_train), (x_test, y_test) = fashion_mnist.load_data()\n",
        "\n",
        "\n",
        "# Reshaping the array to 4-dims so that it can work with the Keras API\n",
        "x_train = x_train.reshape(x_train.shape[0], 28, 28, 1)\n",
        "x_test = x_test.reshape(x_test.shape[0], 28, 28, 1)\n",
        "input_shape = (28, 28, 1)\n",
        "# Making sure that the values are float so that we can get decimal points after division\n",
        "x_train = x_train.astype('float32')\n",
        "x_test = x_test.astype('float32')\n",
        "# Normalizing the RGB codes by dividing it to the max RGB value.\n",
        "x_train /= 255\n",
        "x_test /= 255\n",
        "\n",
        "#y_train = np_utils.to_categorical(y_train, 10)\n",
        "#y_test = np_utils.to_categorical(y_test, 10)\n",
        "print('x_train shape:', x_train.shape)\n",
        "print('Number of images in x_train', x_train.shape[0])\n",
        "print('Number of images in x_test', x_test.shape[0])"
      ],
      "execution_count": 4,
      "outputs": [
        {
          "output_type": "stream",
          "text": [
            "Downloading data from http://fashion-mnist.s3-website.eu-central-1.amazonaws.com/train-labels-idx1-ubyte.gz\n",
            "32768/29515 [=================================] - 0s 8us/step\n",
            "Downloading data from http://fashion-mnist.s3-website.eu-central-1.amazonaws.com/train-images-idx3-ubyte.gz\n",
            "26427392/26421880 [==============================] - 4s 0us/step\n",
            "Downloading data from http://fashion-mnist.s3-website.eu-central-1.amazonaws.com/t10k-labels-idx1-ubyte.gz\n",
            "8192/5148 [===============================================] - 0s 0us/step\n",
            "Downloading data from http://fashion-mnist.s3-website.eu-central-1.amazonaws.com/t10k-images-idx3-ubyte.gz\n",
            "4423680/4422102 [==============================] - 2s 0us/step\n",
            "x_train shape: (60000, 28, 28, 1)\n",
            "Number of images in x_train 60000\n",
            "Number of images in x_test 10000\n"
          ],
          "name": "stdout"
        }
      ]
    },
    {
      "metadata": {
        "id": "zCpjomgnFJLz",
        "colab_type": "code",
        "colab": {
          "base_uri": "https://localhost:8080/",
          "height": 612
        },
        "outputId": "1c4053be-64ff-48a8-964c-fd1a7bee931c"
      },
      "cell_type": "code",
      "source": [
        "from keras.layers import Input, Dense, Conv2D, MaxPooling2D, UpSampling2D\n",
        "from keras.models import Model\n",
        "from keras import backend as K\n",
        "\n",
        "input_img = Input(shape=(28, 28, 1))  # adapt this if using `channels_first` image data format\n",
        "\n",
        "x = Conv2D(32, (3, 3), activation='relu', padding='same')(input_img)\n",
        "x = MaxPooling2D((2, 2), padding='same')(x)\n",
        "x = Conv2D(16, (3, 3), activation='relu', padding='same')(x)\n",
        "x = MaxPooling2D((2, 2), padding='same')(x)\n",
        "x = Conv2D(8, (3, 3), activation='relu', padding='same')(x)\n",
        "encoded = MaxPooling2D((2, 2), padding='same')(x)\n",
        "\n",
        "# at this point the representation is (4, 4, 8) i.e. 128-dimensional\n",
        "\n",
        "x = Conv2D(8, (3, 3), activation='relu', padding='same')(encoded)\n",
        "x = UpSampling2D((2, 2))(x)\n",
        "x = Conv2D(16, (3, 3), activation='relu', padding='same')(x)\n",
        "x = UpSampling2D((2, 2))(x)\n",
        "x = Conv2D(32, (3, 3), activation='relu')(x)\n",
        "x = UpSampling2D((2, 2))(x)\n",
        "decoded = Conv2D(1, (3, 3), activation='sigmoid', padding='same')(x)\n",
        "\n",
        "autoencoder = Model(input_img, decoded)\n",
        "autoencoder.summary()\n",
        "autoencoder.compile(optimizer='adadelta', loss='binary_crossentropy')\n"
      ],
      "execution_count": 3,
      "outputs": [
        {
          "output_type": "stream",
          "text": [
            "_________________________________________________________________\n",
            "Layer (type)                 Output Shape              Param #   \n",
            "=================================================================\n",
            "input_1 (InputLayer)         (None, 28, 28, 1)         0         \n",
            "_________________________________________________________________\n",
            "conv2d_1 (Conv2D)            (None, 28, 28, 32)        320       \n",
            "_________________________________________________________________\n",
            "max_pooling2d_1 (MaxPooling2 (None, 14, 14, 32)        0         \n",
            "_________________________________________________________________\n",
            "conv2d_2 (Conv2D)            (None, 14, 14, 16)        4624      \n",
            "_________________________________________________________________\n",
            "max_pooling2d_2 (MaxPooling2 (None, 7, 7, 16)          0         \n",
            "_________________________________________________________________\n",
            "conv2d_3 (Conv2D)            (None, 7, 7, 8)           1160      \n",
            "_________________________________________________________________\n",
            "max_pooling2d_3 (MaxPooling2 (None, 4, 4, 8)           0         \n",
            "_________________________________________________________________\n",
            "conv2d_4 (Conv2D)            (None, 4, 4, 8)           584       \n",
            "_________________________________________________________________\n",
            "up_sampling2d_1 (UpSampling2 (None, 8, 8, 8)           0         \n",
            "_________________________________________________________________\n",
            "conv2d_5 (Conv2D)            (None, 8, 8, 16)          1168      \n",
            "_________________________________________________________________\n",
            "up_sampling2d_2 (UpSampling2 (None, 16, 16, 16)        0         \n",
            "_________________________________________________________________\n",
            "conv2d_6 (Conv2D)            (None, 14, 14, 32)        4640      \n",
            "_________________________________________________________________\n",
            "up_sampling2d_3 (UpSampling2 (None, 28, 28, 32)        0         \n",
            "_________________________________________________________________\n",
            "conv2d_7 (Conv2D)            (None, 28, 28, 1)         289       \n",
            "=================================================================\n",
            "Total params: 12,785\n",
            "Trainable params: 12,785\n",
            "Non-trainable params: 0\n",
            "_________________________________________________________________\n"
          ],
          "name": "stdout"
        }
      ]
    },
    {
      "metadata": {
        "id": "UnLHpZ7KFJL2",
        "colab_type": "code",
        "colab": {
          "base_uri": "https://localhost:8080/",
          "height": 2499
        },
        "outputId": "697f7f6b-da43-40c7-d9ae-139204102c80"
      },
      "cell_type": "code",
      "source": [
        "from keras.callbacks import EarlyStopping  \n",
        "eary_stopping = EarlyStopping(\n",
        "    monitor='val_loss',\n",
        "    min_delta=0,\n",
        "    patience=10,\n",
        "    verbose=1,\n",
        "    mode='auto')\n",
        "\n",
        "callbacks = [eary_stopping]\n",
        "\n",
        "model = autoencoder.fit(x_train, x_train,\n",
        "                                      epochs=100,\n",
        "                                      batch_size=128,\n",
        "                                      validation_data=(x_test, x_test),\n",
        "                                      callbacks=callbacks)"
      ],
      "execution_count": 4,
      "outputs": [
        {
          "output_type": "stream",
          "text": [
            "Train on 60000 samples, validate on 10000 samples\n",
            "Epoch 1/100\n",
            "60000/60000 [==============================] - 11s 186us/step - loss: 0.3738 - val_loss: 0.3339\n",
            "Epoch 2/100\n",
            "60000/60000 [==============================] - 7s 122us/step - loss: 0.3223 - val_loss: 0.3128\n",
            "Epoch 3/100\n",
            "60000/60000 [==============================] - 7s 121us/step - loss: 0.3111 - val_loss: 0.3139\n",
            "Epoch 4/100\n",
            "60000/60000 [==============================] - 7s 122us/step - loss: 0.3051 - val_loss: 0.3076\n",
            "Epoch 5/100\n",
            "60000/60000 [==============================] - 7s 121us/step - loss: 0.3011 - val_loss: 0.2980\n",
            "Epoch 6/100\n",
            "60000/60000 [==============================] - 7s 121us/step - loss: 0.2985 - val_loss: 0.3016\n",
            "Epoch 7/100\n",
            "60000/60000 [==============================] - 7s 121us/step - loss: 0.2966 - val_loss: 0.3000\n",
            "Epoch 8/100\n",
            "60000/60000 [==============================] - 7s 122us/step - loss: 0.2950 - val_loss: 0.2934\n",
            "Epoch 9/100\n",
            "60000/60000 [==============================] - 7s 122us/step - loss: 0.2935 - val_loss: 0.2961\n",
            "Epoch 10/100\n",
            "60000/60000 [==============================] - 7s 122us/step - loss: 0.2923 - val_loss: 0.2929\n",
            "Epoch 11/100\n",
            "60000/60000 [==============================] - 7s 121us/step - loss: 0.2912 - val_loss: 0.2916\n",
            "Epoch 12/100\n",
            "60000/60000 [==============================] - 7s 121us/step - loss: 0.2902 - val_loss: 0.2967\n",
            "Epoch 13/100\n",
            "60000/60000 [==============================] - 7s 122us/step - loss: 0.2894 - val_loss: 0.2888\n",
            "Epoch 14/100\n",
            "60000/60000 [==============================] - 7s 121us/step - loss: 0.2886 - val_loss: 0.2904\n",
            "Epoch 15/100\n",
            "60000/60000 [==============================] - 7s 122us/step - loss: 0.2880 - val_loss: 0.2867\n",
            "Epoch 16/100\n",
            "60000/60000 [==============================] - 7s 121us/step - loss: 0.2873 - val_loss: 0.2889\n",
            "Epoch 17/100\n",
            "60000/60000 [==============================] - 7s 121us/step - loss: 0.2865 - val_loss: 0.2897\n",
            "Epoch 18/100\n",
            "60000/60000 [==============================] - 7s 122us/step - loss: 0.2864 - val_loss: 0.2852\n",
            "Epoch 19/100\n",
            "60000/60000 [==============================] - 7s 122us/step - loss: 0.2855 - val_loss: 0.2860\n",
            "Epoch 20/100\n",
            "60000/60000 [==============================] - 7s 121us/step - loss: 0.2853 - val_loss: 0.2852\n",
            "Epoch 21/100\n",
            "60000/60000 [==============================] - 7s 121us/step - loss: 0.2846 - val_loss: 0.2854\n",
            "Epoch 22/100\n",
            "60000/60000 [==============================] - 7s 122us/step - loss: 0.2846 - val_loss: 0.2852\n",
            "Epoch 23/100\n",
            "60000/60000 [==============================] - 7s 121us/step - loss: 0.2840 - val_loss: 0.2845\n",
            "Epoch 24/100\n",
            "60000/60000 [==============================] - 7s 122us/step - loss: 0.2838 - val_loss: 0.2857\n",
            "Epoch 25/100\n",
            "60000/60000 [==============================] - 7s 121us/step - loss: 0.2836 - val_loss: 0.2856\n",
            "Epoch 26/100\n",
            "60000/60000 [==============================] - 7s 121us/step - loss: 0.2832 - val_loss: 0.2834\n",
            "Epoch 27/100\n",
            "60000/60000 [==============================] - 7s 121us/step - loss: 0.2832 - val_loss: 0.2834\n",
            "Epoch 28/100\n",
            "60000/60000 [==============================] - 7s 121us/step - loss: 0.2825 - val_loss: 0.2853\n",
            "Epoch 29/100\n",
            "60000/60000 [==============================] - 7s 121us/step - loss: 0.2824 - val_loss: 0.2871\n",
            "Epoch 30/100\n",
            "60000/60000 [==============================] - 7s 121us/step - loss: 0.2821 - val_loss: 0.2845\n",
            "Epoch 31/100\n",
            "60000/60000 [==============================] - 7s 121us/step - loss: 0.2818 - val_loss: 0.2847\n",
            "Epoch 32/100\n",
            "60000/60000 [==============================] - 7s 121us/step - loss: 0.2817 - val_loss: 0.2841\n",
            "Epoch 33/100\n",
            "60000/60000 [==============================] - 7s 122us/step - loss: 0.2813 - val_loss: 0.2824\n",
            "Epoch 34/100\n",
            "60000/60000 [==============================] - 7s 122us/step - loss: 0.2811 - val_loss: 0.2835\n",
            "Epoch 35/100\n",
            "60000/60000 [==============================] - 7s 121us/step - loss: 0.2810 - val_loss: 0.2832\n",
            "Epoch 36/100\n",
            "60000/60000 [==============================] - 7s 121us/step - loss: 0.2808 - val_loss: 0.2819\n",
            "Epoch 37/100\n",
            "60000/60000 [==============================] - 7s 121us/step - loss: 0.2807 - val_loss: 0.2843\n",
            "Epoch 38/100\n",
            "60000/60000 [==============================] - 7s 121us/step - loss: 0.2806 - val_loss: 0.2811\n",
            "Epoch 39/100\n",
            "60000/60000 [==============================] - 7s 121us/step - loss: 0.2804 - val_loss: 0.2817\n",
            "Epoch 40/100\n",
            "60000/60000 [==============================] - 7s 121us/step - loss: 0.2803 - val_loss: 0.2830\n",
            "Epoch 41/100\n",
            "60000/60000 [==============================] - 7s 122us/step - loss: 0.2796 - val_loss: 0.2795\n",
            "Epoch 42/100\n",
            "60000/60000 [==============================] - 7s 121us/step - loss: 0.2796 - val_loss: 0.2833\n",
            "Epoch 43/100\n",
            "60000/60000 [==============================] - 7s 121us/step - loss: 0.2797 - val_loss: 0.2847\n",
            "Epoch 44/100\n",
            "60000/60000 [==============================] - 7s 120us/step - loss: 0.2795 - val_loss: 0.2851\n",
            "Epoch 45/100\n",
            "60000/60000 [==============================] - 7s 121us/step - loss: 0.2794 - val_loss: 0.2811\n",
            "Epoch 46/100\n",
            "60000/60000 [==============================] - 7s 121us/step - loss: 0.2791 - val_loss: 0.2828\n",
            "Epoch 47/100\n",
            "60000/60000 [==============================] - 7s 121us/step - loss: 0.2791 - val_loss: 0.2807\n",
            "Epoch 48/100\n",
            "60000/60000 [==============================] - 7s 121us/step - loss: 0.2783 - val_loss: 0.2793\n",
            "Epoch 49/100\n",
            "60000/60000 [==============================] - 7s 122us/step - loss: 0.2782 - val_loss: 0.2793\n",
            "Epoch 50/100\n",
            "60000/60000 [==============================] - 7s 121us/step - loss: 0.2783 - val_loss: 0.2800\n",
            "Epoch 51/100\n",
            "60000/60000 [==============================] - 7s 121us/step - loss: 0.2781 - val_loss: 0.2797\n",
            "Epoch 52/100\n",
            "60000/60000 [==============================] - 7s 121us/step - loss: 0.2782 - val_loss: 0.2812\n",
            "Epoch 53/100\n",
            "60000/60000 [==============================] - 7s 122us/step - loss: 0.2780 - val_loss: 0.2828\n",
            "Epoch 54/100\n",
            "60000/60000 [==============================] - 7s 121us/step - loss: 0.2779 - val_loss: 0.2798\n",
            "Epoch 55/100\n",
            "60000/60000 [==============================] - 7s 122us/step - loss: 0.2778 - val_loss: 0.2785\n",
            "Epoch 56/100\n",
            "60000/60000 [==============================] - 7s 122us/step - loss: 0.2779 - val_loss: 0.2798\n",
            "Epoch 57/100\n",
            "60000/60000 [==============================] - 7s 121us/step - loss: 0.2778 - val_loss: 0.2826\n",
            "Epoch 58/100\n",
            "60000/60000 [==============================] - 7s 121us/step - loss: 0.2778 - val_loss: 0.2845\n",
            "Epoch 59/100\n",
            "60000/60000 [==============================] - 7s 121us/step - loss: 0.2776 - val_loss: 0.2792\n",
            "Epoch 60/100\n",
            "60000/60000 [==============================] - 7s 121us/step - loss: 0.2775 - val_loss: 0.2793\n",
            "Epoch 61/100\n",
            "60000/60000 [==============================] - 7s 121us/step - loss: 0.2775 - val_loss: 0.2804\n",
            "Epoch 62/100\n",
            "60000/60000 [==============================] - 7s 121us/step - loss: 0.2774 - val_loss: 0.2777\n",
            "Epoch 63/100\n",
            "60000/60000 [==============================] - 7s 121us/step - loss: 0.2771 - val_loss: 0.2779\n",
            "Epoch 64/100\n",
            "60000/60000 [==============================] - 7s 121us/step - loss: 0.2769 - val_loss: 0.2787\n",
            "Epoch 65/100\n",
            "60000/60000 [==============================] - 7s 121us/step - loss: 0.2769 - val_loss: 0.2799\n",
            "Epoch 66/100\n",
            "60000/60000 [==============================] - 7s 121us/step - loss: 0.2768 - val_loss: 0.2789\n",
            "Epoch 67/100\n",
            "60000/60000 [==============================] - 7s 122us/step - loss: 0.2769 - val_loss: 0.2786\n",
            "Epoch 68/100\n",
            "60000/60000 [==============================] - 7s 121us/step - loss: 0.2768 - val_loss: 0.2783\n",
            "Epoch 69/100\n",
            "60000/60000 [==============================] - 7s 121us/step - loss: 0.2765 - val_loss: 0.2797\n",
            "Epoch 70/100\n",
            "60000/60000 [==============================] - 7s 121us/step - loss: 0.2766 - val_loss: 0.2781\n",
            "Epoch 71/100\n",
            "60000/60000 [==============================] - 7s 121us/step - loss: 0.2766 - val_loss: 0.2784\n",
            "Epoch 72/100\n",
            "60000/60000 [==============================] - 7s 121us/step - loss: 0.2764 - val_loss: 0.2819\n",
            "Epoch 00072: early stopping\n"
          ],
          "name": "stdout"
        }
      ]
    },
    {
      "metadata": {
        "id": "SIDyRMLnL_sb",
        "colab_type": "code",
        "colab": {
          "base_uri": "https://localhost:8080/",
          "height": 571
        },
        "outputId": "7a9b9c55-bd67-4098-86c9-a7bf323ad28c"
      },
      "cell_type": "code",
      "source": [
        "# Evaluate\n",
        "\n",
        "plt.plot(model.history['loss'])\n",
        "plt.ylabel('loss')\n",
        "plt.xlabel('epoch')\n",
        "plt.title('train loss')\n",
        "plt.show()\n",
        "plt.plot(model.history['val_loss'])\n",
        "plt.ylabel('loss')\n",
        "plt.xlabel('epoch')\n",
        "plt.title('test loss')\n",
        "plt.show()\n",
        "\n"
      ],
      "execution_count": 5,
      "outputs": [
        {
          "output_type": "display_data",
          "data": {
            "image/png": "[encoded data removed]",
            "text/plain": [
              "<matplotlib.figure.Figure at 0x7f09c536d4a8>"
            ]
          },
          "metadata": {
            "tags": []
          }
        },
        {
          "output_type": "display_data",
          "data": {
            "image/png": "[encoded data removed]",
            "text/plain": [
              "<matplotlib.figure.Figure at 0x7f09c01fc588>"
            ]
          },
          "metadata": {
            "tags": []
          }
        }
      ]
    },
    {
      "metadata": {
        "id": "ORwg58j_fcp6",
        "colab_type": "code",
        "colab": {
          "base_uri": "https://localhost:8080/",
          "height": 264
        },
        "outputId": "f9a20813-3f7b-47d8-c145-46ea922c4237"
      },
      "cell_type": "code",
      "source": [
        "decoded_imgs = autoencoder.predict(x_test)\n",
        "\n",
        "n = 10\n",
        "plt.figure(figsize=(20, 4))\n",
        "for i in range(n):\n",
        "    # display original\n",
        "    ax = plt.subplot(2, n, i+1)\n",
        "    plt.imshow(x_test[i].reshape(28, 28))\n",
        "    plt.gray()\n",
        "    ax.get_xaxis().set_visible(False)\n",
        "    ax.get_yaxis().set_visible(False)\n",
        "\n",
        "    # display reconstruction\n",
        "    ax = plt.subplot(2, n, i + n+1)\n",
        "    plt.imshow(decoded_imgs[i].reshape(28, 28))\n",
        "    plt.gray()\n",
        "    ax.get_xaxis().set_visible(False)\n",
        "    ax.get_yaxis().set_visible(False)\n",
        "plt.show()"
      ],
      "execution_count": 6,
      "outputs": [
        {
          "output_type": "display_data",
          "data": {
            "image/png": "[encoded data removed]",
            "text/plain": [
              "<matplotlib.figure.Figure at 0x7f09c018ea90>"
            ]
          },
          "metadata": {
            "tags": []
          }
        }
      ]
    },
    {
      "metadata": {
        "id": "6mf-0Sm7FJL6",
        "colab_type": "text"
      },
      "cell_type": "markdown",
      "source": [
        "# Image Classification\n",
        "\n",
        "## 2.1Deep CNN\n",
        "Build a deep CNN to classify the images. \n",
        "- Provide a brief description of the architectural choices you’ve made: kernel sizes, strides, padding, network depth. \n",
        "- Train your network end-to-end. Report on your model’s performance on training set and test set.\n"
      ]
    },
    {
      "metadata": {
        "id": "lLqTrpTfJ0op",
        "colab_type": "code",
        "colab": {
          "base_uri": "https://localhost:8080/",
          "height": 68
        },
        "outputId": "e4658611-ffa8-407a-d971-19c30ad8bdee"
      },
      "cell_type": "code",
      "source": [
        "import tensorflow as tf\n",
        "(x_train, y_train), (x_test, y_test) = fashion_mnist.load_data()\n",
        "# Reshaping the array to 4-dims so that it can work with the Keras API\n",
        "x_train = x_train.reshape(x_train.shape[0], 28, 28, 1)\n",
        "x_test = x_test.reshape(x_test.shape[0], 28, 28, 1)\n",
        "input_shape = (28, 28, 1)\n",
        "# Making sure that the values are float so that we can get decimal points after division\n",
        "x_train = x_train.astype('float32')\n",
        "x_test = x_test.astype('float32')\n",
        "# Normalizing the RGB codes by dividing it to the max RGB value.\n",
        "x_train /= 255\n",
        "x_test /= 255\n",
        "print('x_train shape:', x_train.shape)\n",
        "print('Number of images in x_train', x_train.shape[0])\n",
        "print('Number of images in x_test', x_test.shape[0])"
      ],
      "execution_count": 11,
      "outputs": [
        {
          "output_type": "stream",
          "text": [
            "x_train shape: (60000, 28, 28, 1)\n",
            "Number of images in x_train 60000\n",
            "Number of images in x_test 10000\n"
          ],
          "name": "stdout"
        }
      ]
    },
    {
      "metadata": {
        "id": "XuUBqMa_sxJq",
        "colab_type": "code",
        "colab": {
          "base_uri": "https://localhost:8080/",
          "height": 938
        },
        "outputId": "96d3e2d6-0e95-4084-feb8-d6f9bc961256"
      },
      "cell_type": "code",
      "source": [
        "# Importing the required Keras modules containing model and layers\n",
        "from keras.models import Sequential\n",
        "from keras.layers import Dense, Conv2D, Dropout, Flatten, MaxPooling2D\n",
        "from keras.callbacks import EarlyStopping  \n",
        "# Creating a Sequential Model and adding the layers\n",
        "model = Sequential()\n",
        "model.add(Conv2D(28, kernel_size=(3,3), input_shape=input_shape))\n",
        "model.add(MaxPooling2D(pool_size=(2, 2)))\n",
        "model.add(Flatten()) # Flattening the 2D arrays for fully connected layers\n",
        "model.add(Dense(128, activation=tf.nn.relu))\n",
        "model.add(Dropout(0.2))\n",
        "model.add(Dense(10,activation=tf.nn.softmax))\n",
        "model.summary()\n",
        "model.compile(optimizer='adam', \n",
        "              loss='sparse_categorical_crossentropy', \n",
        "              metrics=['accuracy'])\n",
        "eary_stopping = EarlyStopping(\n",
        "    monitor='val_loss',\n",
        "    min_delta=0,\n",
        "    patience=10,\n",
        "    verbose=1,\n",
        "    mode='auto')\n",
        "callbacks = [eary_stopping]\n",
        "deep_cnn_model=model.fit(x=x_train,\n",
        "                         y=y_train, \n",
        "                         batch_size=64,\n",
        "                         epochs=100,\n",
        "                         validation_data=(x_test, y_test),\n",
        "                         callbacks=callbacks)"
      ],
      "execution_count": 12,
      "outputs": [
        {
          "output_type": "stream",
          "text": [
            "_________________________________________________________________\n",
            "Layer (type)                 Output Shape              Param #   \n",
            "=================================================================\n",
            "conv2d_6 (Conv2D)            (None, 26, 26, 28)        280       \n",
            "_________________________________________________________________\n",
            "max_pooling2d_6 (MaxPooling2 (None, 13, 13, 28)        0         \n",
            "_________________________________________________________________\n",
            "flatten_6 (Flatten)          (None, 4732)              0         \n",
            "_________________________________________________________________\n",
            "dense_11 (Dense)             (None, 128)               605824    \n",
            "_________________________________________________________________\n",
            "dropout_6 (Dropout)          (None, 128)               0         \n",
            "_________________________________________________________________\n",
            "dense_12 (Dense)             (None, 10)                1290      \n",
            "=================================================================\n",
            "Total params: 607,394\n",
            "Trainable params: 607,394\n",
            "Non-trainable params: 0\n",
            "_________________________________________________________________\n",
            "Train on 60000 samples, validate on 10000 samples\n",
            "Epoch 1/100\n",
            "60000/60000 [==============================] - 8s 137us/step - loss: 0.4531 - acc: 0.8393 - val_loss: 0.3405 - val_acc: 0.8742\n",
            "Epoch 2/100\n",
            "60000/60000 [==============================] - 8s 128us/step - loss: 0.3014 - acc: 0.8908 - val_loss: 0.3050 - val_acc: 0.8886\n",
            "Epoch 3/100\n",
            "60000/60000 [==============================] - 8s 130us/step - loss: 0.2552 - acc: 0.9073 - val_loss: 0.2788 - val_acc: 0.8970\n",
            "Epoch 4/100\n",
            "60000/60000 [==============================] - 8s 129us/step - loss: 0.2235 - acc: 0.9180 - val_loss: 0.2680 - val_acc: 0.9009\n",
            "Epoch 5/100\n",
            "60000/60000 [==============================] - 8s 130us/step - loss: 0.1965 - acc: 0.9274 - val_loss: 0.2611 - val_acc: 0.9090\n",
            "Epoch 6/100\n",
            "60000/60000 [==============================] - 8s 129us/step - loss: 0.1775 - acc: 0.9352 - val_loss: 0.2549 - val_acc: 0.9101\n",
            "Epoch 7/100\n",
            "60000/60000 [==============================] - 8s 128us/step - loss: 0.1598 - acc: 0.9409 - val_loss: 0.2687 - val_acc: 0.9127\n",
            "Epoch 8/100\n",
            "60000/60000 [==============================] - 8s 127us/step - loss: 0.1443 - acc: 0.9463 - val_loss: 0.2618 - val_acc: 0.9137\n",
            "Epoch 9/100\n",
            "60000/60000 [==============================] - 8s 129us/step - loss: 0.1320 - acc: 0.9507 - val_loss: 0.2644 - val_acc: 0.9156\n",
            "Epoch 10/100\n",
            "60000/60000 [==============================] - 8s 129us/step - loss: 0.1180 - acc: 0.9556 - val_loss: 0.2618 - val_acc: 0.9135\n",
            "Epoch 11/100\n",
            "60000/60000 [==============================] - 8s 129us/step - loss: 0.1096 - acc: 0.9596 - val_loss: 0.2821 - val_acc: 0.9161\n",
            "Epoch 12/100\n",
            "60000/60000 [==============================] - 8s 129us/step - loss: 0.0995 - acc: 0.9628 - val_loss: 0.2898 - val_acc: 0.9153\n",
            "Epoch 13/100\n",
            "60000/60000 [==============================] - 8s 132us/step - loss: 0.0926 - acc: 0.9664 - val_loss: 0.3063 - val_acc: 0.9172\n",
            "Epoch 14/100\n",
            "60000/60000 [==============================] - 8s 129us/step - loss: 0.0876 - acc: 0.9677 - val_loss: 0.3063 - val_acc: 0.9154\n",
            "Epoch 15/100\n",
            "60000/60000 [==============================] - 8s 128us/step - loss: 0.0799 - acc: 0.9701 - val_loss: 0.3181 - val_acc: 0.9164\n",
            "Epoch 16/100\n",
            "60000/60000 [==============================] - 8s 129us/step - loss: 0.0735 - acc: 0.9727 - val_loss: 0.3299 - val_acc: 0.9164\n",
            "Epoch 00016: early stopping\n"
          ],
          "name": "stdout"
        }
      ]
    },
    {
      "metadata": {
        "id": "9W4DKFdR2Z4b",
        "colab_type": "code",
        "colab": {
          "base_uri": "https://localhost:8080/",
          "height": 571
        },
        "outputId": "9a83f467-89cf-4736-a0b8-b0283e4c2134"
      },
      "cell_type": "code",
      "source": [
        "#Evaluate\n",
        "\n",
        "plt.plot(deep_cnn_model.history['loss'])\n",
        "plt.ylabel('loss')\n",
        "plt.xlabel('epoch')\n",
        "plt.title('train loss')\n",
        "plt.show()\n",
        "plt.plot(deep_cnn_model.history['val_loss'])\n",
        "plt.ylabel('loss')\n",
        "plt.xlabel('epoch')\n",
        "plt.title('test loss')\n",
        "plt.show()"
      ],
      "execution_count": 13,
      "outputs": [
        {
          "output_type": "display_data",
          "data": {
            "image/png": "[encoded data removed]",
            "text/plain": [
              "<matplotlib.figure.Figure at 0x7fab479bfb38>"
            ]
          },
          "metadata": {
            "tags": []
          }
        },
        {
          "output_type": "display_data",
          "data": {
            "image/png": "[encoded data removed]",
            "text/plain": [
              "<matplotlib.figure.Figure at 0x7fab44d73908>"
            ]
          },
          "metadata": {
            "tags": []
          }
        }
      ]
    },
    {
      "metadata": {
        "id": "evBo7MRmFJL6",
        "colab_type": "text"
      },
      "cell_type": "markdown",
      "source": [
        "## 2.2 Transfer Learning\n",
        "\n",
        "Repeat the same task, but this time \n",
        "- utilize a pre-trained network for the major- ity of your model. \n",
        "- You should only train the final Dense layer, all other weights should be fixed. \n",
        "- You can use whichever pre-trained backbone you like (ResNet, VGG, etc). \n",
        "- Report on your model’s performance on training set and test set."
      ]
    },
    {
      "metadata": {
        "id": "3oWNPV8hFJL7",
        "colab_type": "code",
        "colab": {
          "base_uri": "https://localhost:8080/",
          "height": 836
        },
        "outputId": "835774f2-5f5f-4ca6-9372-90477ef8543e"
      },
      "cell_type": "code",
      "source": [
        "from keras.preprocessing.image import img_to_array, array_to_img\n",
        "from keras.applications.vgg16 import VGG16, preprocess_input, decode_predictions\n",
        "import numpy as np\n",
        " # Transfer Learning\n",
        "\n",
        "(x_train, y_train), (x_test, y_test) = fashion_mnist.load_data()\n",
        "\n",
        "x_train = x_train.reshape(x_train.shape[0], 784).astype('float32')\n",
        "x_test = x_test.reshape(x_test.shape[0], 784).astype('float32')\n",
        "\n",
        "# Convert the images into 3 channels\n",
        "x_train=np.dstack([x_train] * 3)\n",
        "x_test=np.dstack([x_test]*3)\n",
        "\n",
        "x_train = x_train.reshape(x_train.shape[0],28,28,3).astype('float32')\n",
        "x_test = x_test.reshape(x_test.shape[0],28,28,3).astype('float32')\n",
        "\n",
        "x_train = np.asarray([img_to_array(array_to_img(im, scale=False).resize((48,48))) for im in x_train])\n",
        "x_test = np.asarray([img_to_array(array_to_img(im, scale=False).resize((48,48))) for im in x_test])\n",
        "\n",
        "\n",
        "x_train = x_train / 255\n",
        "x_test = x_test / 255\n",
        "\n",
        "#label for each image\n",
        "y_train = np_utils.to_categorical(y_train, 10)\n",
        "y_test = np_utils.to_categorical(y_test, 10)\n",
        "\n",
        "\n",
        "IMG_WIDTH = 48\n",
        "IMG_HEIGHT = 48\n",
        "IMG_DEPTH = 3\n",
        "BATCH_SIZE = 16\n",
        "\n",
        "x_train = preprocess_input(x_train)\n",
        "x_test  = preprocess_input (x_test)\n",
        "\n",
        "vgg = VGG16(weights='imagenet',\n",
        "                  include_top=False, \n",
        "                  input_shape=(IMG_HEIGHT, IMG_WIDTH, IMG_DEPTH)\n",
        "                 )\n",
        "vgg.summary()"
      ],
      "execution_count": 7,
      "outputs": [
        {
          "output_type": "stream",
          "text": [
            "Downloading data from https://github.com/fchollet/deep-learning-models/releases/download/v0.1/vgg16_weights_tf_dim_ordering_tf_kernels_notop.h5\n",
            "58892288/58889256 [==============================] - 6s 0us/step\n",
            "_________________________________________________________________\n",
            "Layer (type)                 Output Shape              Param #   \n",
            "=================================================================\n",
            "input_1 (InputLayer)         (None, 48, 48, 3)         0         \n",
            "_________________________________________________________________\n",
            "block1_conv1 (Conv2D)        (None, 48, 48, 64)        1792      \n",
            "_________________________________________________________________\n",
            "block1_conv2 (Conv2D)        (None, 48, 48, 64)        36928     \n",
            "_________________________________________________________________\n",
            "block1_pool (MaxPooling2D)   (None, 24, 24, 64)        0         \n",
            "_________________________________________________________________\n",
            "block2_conv1 (Conv2D)        (None, 24, 24, 128)       73856     \n",
            "_________________________________________________________________\n",
            "block2_conv2 (Conv2D)        (None, 24, 24, 128)       147584    \n",
            "_________________________________________________________________\n",
            "block2_pool (MaxPooling2D)   (None, 12, 12, 128)       0         \n",
            "_________________________________________________________________\n",
            "block3_conv1 (Conv2D)        (None, 12, 12, 256)       295168    \n",
            "_________________________________________________________________\n",
            "block3_conv2 (Conv2D)        (None, 12, 12, 256)       590080    \n",
            "_________________________________________________________________\n",
            "block3_conv3 (Conv2D)        (None, 12, 12, 256)       590080    \n",
            "_________________________________________________________________\n",
            "block3_pool (MaxPooling2D)   (None, 6, 6, 256)         0         \n",
            "_________________________________________________________________\n",
            "block4_conv1 (Conv2D)        (None, 6, 6, 512)         1180160   \n",
            "_________________________________________________________________\n",
            "block4_conv2 (Conv2D)        (None, 6, 6, 512)         2359808   \n",
            "_________________________________________________________________\n",
            "block4_conv3 (Conv2D)        (None, 6, 6, 512)         2359808   \n",
            "_________________________________________________________________\n",
            "block4_pool (MaxPooling2D)   (None, 3, 3, 512)         0         \n",
            "_________________________________________________________________\n",
            "block5_conv1 (Conv2D)        (None, 3, 3, 512)         2359808   \n",
            "_________________________________________________________________\n",
            "block5_conv2 (Conv2D)        (None, 3, 3, 512)         2359808   \n",
            "_________________________________________________________________\n",
            "block5_conv3 (Conv2D)        (None, 3, 3, 512)         2359808   \n",
            "_________________________________________________________________\n",
            "block5_pool (MaxPooling2D)   (None, 1, 1, 512)         0         \n",
            "=================================================================\n",
            "Total params: 14,714,688\n",
            "Trainable params: 14,714,688\n",
            "Non-trainable params: 0\n",
            "_________________________________________________________________\n"
          ],
          "name": "stdout"
        }
      ]
    },
    {
      "metadata": {
        "id": "Ecujz9maUIU6",
        "colab_type": "code",
        "colab": {
          "base_uri": "https://localhost:8080/",
          "height": 51
        },
        "outputId": "17c94940-60a0-4992-9e8f-481a5ba8658d"
      },
      "cell_type": "code",
      "source": [
        "# Extracting features\n",
        "\n",
        "train_features = vgg.predict(np.array(x_train), batch_size=BATCH_SIZE, verbose=1)\n",
        "test_features = vgg.predict(np.array(x_test), batch_size=BATCH_SIZE, verbose=1)\n",
        "\n",
        "# # Flatten extracted features\n",
        "\n",
        "train_features_flat = np.reshape(train_features, (60000, 1*1*512))\n",
        "test_features_flat = np.reshape(test_features, (10000, 1*1*512))"
      ],
      "execution_count": 8,
      "outputs": [
        {
          "output_type": "stream",
          "text": [
            "60000/60000 [==============================] - 68s 1ms/step\n",
            "10000/10000 [==============================] - 11s 1ms/step\n"
          ],
          "name": "stdout"
        }
      ]
    },
    {
      "metadata": {
        "id": "idb8SqDNUuLd",
        "colab_type": "code",
        "colab": {
          "base_uri": "https://localhost:8080/",
          "height": 238
        },
        "outputId": "8fbce9aa-6771-405a-e33b-68640e83c7f3"
      },
      "cell_type": "code",
      "source": [
        "from keras.layers.advanced_activations import LeakyReLU\n",
        "from keras.optimizers import SGD, Adam, RMSprop\n",
        "from keras.models import Sequential, Model\n",
        "from keras.layers import Embedding, LSTM, Dense, Dropout, Activation, Flatten, Input, Conv2D, MaxPooling2D, UpSampling2D\n",
        "\n",
        "NB_TRAIN_SAMPLES = train_features_flat.shape[0]\n",
        "\n",
        "trans_model = Sequential()\n",
        "trans_model.add(Dense(512, activation='relu', input_dim=(1*1*512)))\n",
        "trans_model.add(LeakyReLU(alpha=0.1))\n",
        "trans_model.add(Dense(10, activation='softmax'))\n",
        "\n",
        "trans_model.compile(\n",
        "    loss='categorical_crossentropy',\n",
        "    optimizer=Adam(),\n",
        "    metrics=['acc'])\n",
        "\n",
        "trans_model.summary()"
      ],
      "execution_count": 11,
      "outputs": [
        {
          "output_type": "stream",
          "text": [
            "_________________________________________________________________\n",
            "Layer (type)                 Output Shape              Param #   \n",
            "=================================================================\n",
            "dense_1 (Dense)              (None, 512)               262656    \n",
            "_________________________________________________________________\n",
            "leaky_re_lu_1 (LeakyReLU)    (None, 512)               0         \n",
            "_________________________________________________________________\n",
            "dense_2 (Dense)              (None, 10)                5130      \n",
            "=================================================================\n",
            "Total params: 267,786\n",
            "Trainable params: 267,786\n",
            "Non-trainable params: 0\n",
            "_________________________________________________________________\n"
          ],
          "name": "stdout"
        }
      ]
    },
    {
      "metadata": {
        "id": "wFhx2bUoVDqq",
        "colab_type": "code",
        "colab": {
          "base_uri": "https://localhost:8080/",
          "height": 3417
        },
        "outputId": "1b2758e3-973a-46cb-e3de-bce4ece57c43"
      },
      "cell_type": "code",
      "source": [
        "from keras.callbacks import EarlyStopping  \n",
        "eary_stopping = EarlyStopping(\n",
        "    monitor='loss',\n",
        "    min_delta=0,\n",
        "    patience=10,\n",
        "    verbose=1,\n",
        "    mode='auto')\n",
        "\n",
        "callbacks = [eary_stopping]\n",
        "\n",
        "transfer_model = trans_model.fit(\n",
        "    train_features_flat,\n",
        "    y_train,\n",
        "    epochs=100,\n",
        "    callbacks=callbacks\n",
        ")"
      ],
      "execution_count": 12,
      "outputs": [
        {
          "output_type": "stream",
          "text": [
            "Epoch 1/100\n",
            "60000/60000 [==============================] - 11s 176us/step - loss: 1.3918 - acc: 0.4879\n",
            "Epoch 2/100\n",
            "60000/60000 [==============================] - 10s 169us/step - loss: 1.0343 - acc: 0.6181\n",
            "Epoch 3/100\n",
            "60000/60000 [==============================] - 10s 169us/step - loss: 0.9538 - acc: 0.6492\n",
            "Epoch 4/100\n",
            "60000/60000 [==============================] - 10s 170us/step - loss: 0.9066 - acc: 0.6660\n",
            "Epoch 5/100\n",
            "60000/60000 [==============================] - 10s 170us/step - loss: 0.8822 - acc: 0.6739\n",
            "Epoch 6/100\n",
            "60000/60000 [==============================] - 10s 170us/step - loss: 0.8600 - acc: 0.6838\n",
            "Epoch 7/100\n",
            "60000/60000 [==============================] - 10s 170us/step - loss: 0.8426 - acc: 0.6908\n",
            "Epoch 8/100\n",
            "60000/60000 [==============================] - 10s 167us/step - loss: 0.8320 - acc: 0.6926\n",
            "Epoch 9/100\n",
            "60000/60000 [==============================] - 10s 168us/step - loss: 0.8210 - acc: 0.6989\n",
            "Epoch 10/100\n",
            "60000/60000 [==============================] - 10s 168us/step - loss: 0.8166 - acc: 0.7000\n",
            "Epoch 11/100\n",
            "60000/60000 [==============================] - 10s 168us/step - loss: 0.8017 - acc: 0.7043\n",
            "Epoch 12/100\n",
            "60000/60000 [==============================] - 10s 169us/step - loss: 0.8004 - acc: 0.7057\n",
            "Epoch 13/100\n",
            "60000/60000 [==============================] - 10s 169us/step - loss: 0.7877 - acc: 0.7097\n",
            "Epoch 14/100\n",
            "60000/60000 [==============================] - 10s 169us/step - loss: 0.7841 - acc: 0.7102\n",
            "Epoch 15/100\n",
            "60000/60000 [==============================] - 10s 169us/step - loss: 0.7807 - acc: 0.7135\n",
            "Epoch 16/100\n",
            "60000/60000 [==============================] - 10s 169us/step - loss: 0.7749 - acc: 0.7145\n",
            "Epoch 17/100\n",
            "60000/60000 [==============================] - 10s 169us/step - loss: 0.7703 - acc: 0.7143\n",
            "Epoch 18/100\n",
            "60000/60000 [==============================] - 10s 171us/step - loss: 0.7653 - acc: 0.7182\n",
            "Epoch 19/100\n",
            "60000/60000 [==============================] - 10s 168us/step - loss: 0.7627 - acc: 0.7200\n",
            "Epoch 20/100\n",
            "60000/60000 [==============================] - 10s 168us/step - loss: 0.7601 - acc: 0.7195\n",
            "Epoch 21/100\n",
            "60000/60000 [==============================] - 10s 168us/step - loss: 0.7545 - acc: 0.7217\n",
            "Epoch 22/100\n",
            "60000/60000 [==============================] - 10s 168us/step - loss: 0.7514 - acc: 0.7241\n",
            "Epoch 23/100\n",
            "60000/60000 [==============================] - 10s 168us/step - loss: 0.7481 - acc: 0.7262\n",
            "Epoch 24/100\n",
            "60000/60000 [==============================] - 10s 170us/step - loss: 0.7458 - acc: 0.7240\n",
            "Epoch 25/100\n",
            "60000/60000 [==============================] - 10s 170us/step - loss: 0.7430 - acc: 0.7253\n",
            "Epoch 26/100\n",
            "60000/60000 [==============================] - 10s 167us/step - loss: 0.7407 - acc: 0.7284\n",
            "Epoch 27/100\n",
            "60000/60000 [==============================] - 10s 167us/step - loss: 0.7355 - acc: 0.7298\n",
            "Epoch 28/100\n",
            "60000/60000 [==============================] - 10s 168us/step - loss: 0.7344 - acc: 0.7300\n",
            "Epoch 29/100\n",
            "60000/60000 [==============================] - 10s 168us/step - loss: 0.7318 - acc: 0.7302\n",
            "Epoch 30/100\n",
            "60000/60000 [==============================] - 10s 167us/step - loss: 0.7293 - acc: 0.7312\n",
            "Epoch 31/100\n",
            "60000/60000 [==============================] - 10s 167us/step - loss: 0.7271 - acc: 0.7325\n",
            "Epoch 32/100\n",
            "60000/60000 [==============================] - 10s 167us/step - loss: 0.7227 - acc: 0.7359\n",
            "Epoch 33/100\n",
            "60000/60000 [==============================] - 10s 166us/step - loss: 0.7200 - acc: 0.7348\n",
            "Epoch 34/100\n",
            "60000/60000 [==============================] - 10s 167us/step - loss: 0.7209 - acc: 0.7347\n",
            "Epoch 35/100\n",
            "60000/60000 [==============================] - 10s 167us/step - loss: 0.7186 - acc: 0.7353\n",
            "Epoch 36/100\n",
            "60000/60000 [==============================] - 10s 168us/step - loss: 0.7146 - acc: 0.7385\n",
            "Epoch 37/100\n",
            "60000/60000 [==============================] - 10s 168us/step - loss: 0.7126 - acc: 0.7381\n",
            "Epoch 38/100\n",
            "60000/60000 [==============================] - 10s 166us/step - loss: 0.7128 - acc: 0.7396\n",
            "Epoch 39/100\n",
            "60000/60000 [==============================] - 10s 168us/step - loss: 0.7117 - acc: 0.7376\n",
            "Epoch 40/100\n",
            "60000/60000 [==============================] - 10s 168us/step - loss: 0.7093 - acc: 0.7392\n",
            "Epoch 41/100\n",
            "60000/60000 [==============================] - 10s 169us/step - loss: 0.7078 - acc: 0.7404\n",
            "Epoch 42/100\n",
            "60000/60000 [==============================] - 10s 169us/step - loss: 0.7024 - acc: 0.7417\n",
            "Epoch 43/100\n",
            "60000/60000 [==============================] - 10s 168us/step - loss: 0.7051 - acc: 0.7413\n",
            "Epoch 44/100\n",
            "60000/60000 [==============================] - 10s 168us/step - loss: 0.7011 - acc: 0.7436\n",
            "Epoch 45/100\n",
            "60000/60000 [==============================] - 10s 168us/step - loss: 0.7043 - acc: 0.7423\n",
            "Epoch 46/100\n",
            "60000/60000 [==============================] - 10s 168us/step - loss: 0.6987 - acc: 0.7450\n",
            "Epoch 47/100\n",
            "60000/60000 [==============================] - 10s 169us/step - loss: 0.7011 - acc: 0.7422\n",
            "Epoch 48/100\n",
            "60000/60000 [==============================] - 10s 170us/step - loss: 0.6990 - acc: 0.7438\n",
            "Epoch 49/100\n",
            "60000/60000 [==============================] - 10s 168us/step - loss: 0.6958 - acc: 0.7435\n",
            "Epoch 50/100\n",
            "60000/60000 [==============================] - 10s 166us/step - loss: 0.6904 - acc: 0.7460\n",
            "Epoch 51/100\n",
            "60000/60000 [==============================] - 10s 168us/step - loss: 0.6954 - acc: 0.7459\n",
            "Epoch 52/100\n",
            "60000/60000 [==============================] - 10s 167us/step - loss: 0.6905 - acc: 0.7449\n",
            "Epoch 53/100\n",
            "60000/60000 [==============================] - 10s 167us/step - loss: 0.6918 - acc: 0.7483\n",
            "Epoch 54/100\n",
            "60000/60000 [==============================] - 10s 167us/step - loss: 0.6901 - acc: 0.7480\n",
            "Epoch 55/100\n",
            "60000/60000 [==============================] - 10s 169us/step - loss: 0.6887 - acc: 0.7466\n",
            "Epoch 56/100\n",
            "60000/60000 [==============================] - 10s 168us/step - loss: 0.6907 - acc: 0.7480\n",
            "Epoch 57/100\n",
            "60000/60000 [==============================] - 10s 166us/step - loss: 0.6871 - acc: 0.7490\n",
            "Epoch 58/100\n",
            "60000/60000 [==============================] - 10s 166us/step - loss: 0.6862 - acc: 0.7495\n",
            "Epoch 59/100\n",
            "60000/60000 [==============================] - 10s 167us/step - loss: 0.6871 - acc: 0.7489\n",
            "Epoch 60/100\n",
            "60000/60000 [==============================] - 10s 166us/step - loss: 0.6826 - acc: 0.7498\n",
            "Epoch 61/100\n",
            "60000/60000 [==============================] - 10s 167us/step - loss: 0.6808 - acc: 0.7499\n",
            "Epoch 62/100\n",
            "60000/60000 [==============================] - 10s 167us/step - loss: 0.6823 - acc: 0.7493\n",
            "Epoch 63/100\n",
            "60000/60000 [==============================] - 10s 166us/step - loss: 0.6785 - acc: 0.7519\n",
            "Epoch 64/100\n",
            "60000/60000 [==============================] - 10s 168us/step - loss: 0.6811 - acc: 0.7504\n",
            "Epoch 65/100\n",
            "60000/60000 [==============================] - 10s 168us/step - loss: 0.6795 - acc: 0.7510\n",
            "Epoch 66/100\n",
            "60000/60000 [==============================] - 10s 168us/step - loss: 0.6781 - acc: 0.7517\n",
            "Epoch 67/100\n",
            "60000/60000 [==============================] - 10s 168us/step - loss: 0.6784 - acc: 0.7516\n",
            "Epoch 68/100\n",
            "60000/60000 [==============================] - 10s 168us/step - loss: 0.6775 - acc: 0.7521\n",
            "Epoch 69/100\n",
            "60000/60000 [==============================] - 10s 168us/step - loss: 0.6746 - acc: 0.7526\n",
            "Epoch 70/100\n",
            "60000/60000 [==============================] - 10s 170us/step - loss: 0.6742 - acc: 0.7521\n",
            "Epoch 71/100\n",
            "60000/60000 [==============================] - 10s 170us/step - loss: 0.6751 - acc: 0.7525\n",
            "Epoch 72/100\n",
            "60000/60000 [==============================] - 10s 168us/step - loss: 0.6730 - acc: 0.7543\n",
            "Epoch 73/100\n",
            "60000/60000 [==============================] - 10s 168us/step - loss: 0.6699 - acc: 0.7551\n",
            "Epoch 74/100\n",
            "60000/60000 [==============================] - 10s 168us/step - loss: 0.6711 - acc: 0.7540\n",
            "Epoch 75/100\n",
            "60000/60000 [==============================] - 10s 168us/step - loss: 0.6671 - acc: 0.7561\n",
            "Epoch 76/100\n",
            "60000/60000 [==============================] - 10s 168us/step - loss: 0.6714 - acc: 0.7548\n",
            "Epoch 77/100\n",
            "60000/60000 [==============================] - 10s 168us/step - loss: 0.6685 - acc: 0.7548\n",
            "Epoch 78/100\n",
            "60000/60000 [==============================] - 10s 168us/step - loss: 0.6693 - acc: 0.7537\n",
            "Epoch 79/100\n",
            "60000/60000 [==============================] - 10s 168us/step - loss: 0.6654 - acc: 0.7574\n",
            "Epoch 80/100\n",
            "60000/60000 [==============================] - 10s 166us/step - loss: 0.6651 - acc: 0.7562\n",
            "Epoch 81/100\n",
            "60000/60000 [==============================] - 10s 167us/step - loss: 0.6710 - acc: 0.7552\n",
            "Epoch 82/100\n",
            "60000/60000 [==============================] - 10s 167us/step - loss: 0.6645 - acc: 0.7581\n",
            "Epoch 83/100\n",
            "60000/60000 [==============================] - 10s 166us/step - loss: 0.6687 - acc: 0.7563\n",
            "Epoch 84/100\n",
            "60000/60000 [==============================] - 10s 168us/step - loss: 0.6646 - acc: 0.7566\n",
            "Epoch 85/100\n",
            "60000/60000 [==============================] - 10s 167us/step - loss: 0.6618 - acc: 0.7585\n",
            "Epoch 86/100\n",
            "60000/60000 [==============================] - 10s 169us/step - loss: 0.6622 - acc: 0.7571\n",
            "Epoch 87/100\n",
            "60000/60000 [==============================] - 10s 169us/step - loss: 0.6604 - acc: 0.7588\n",
            "Epoch 88/100\n",
            "60000/60000 [==============================] - 10s 167us/step - loss: 0.6620 - acc: 0.7579\n",
            "Epoch 89/100\n",
            "60000/60000 [==============================] - 10s 166us/step - loss: 0.6607 - acc: 0.7587\n",
            "Epoch 90/100\n",
            "60000/60000 [==============================] - 10s 166us/step - loss: 0.6617 - acc: 0.7585\n",
            "Epoch 91/100\n",
            "60000/60000 [==============================] - 10s 166us/step - loss: 0.6585 - acc: 0.7585\n",
            "Epoch 92/100\n",
            "60000/60000 [==============================] - 10s 168us/step - loss: 0.6565 - acc: 0.7614\n",
            "Epoch 93/100\n",
            "60000/60000 [==============================] - 10s 169us/step - loss: 0.6619 - acc: 0.7578\n",
            "Epoch 94/100\n",
            "60000/60000 [==============================] - 10s 168us/step - loss: 0.6567 - acc: 0.7607\n",
            "Epoch 95/100\n",
            "60000/60000 [==============================] - 10s 169us/step - loss: 0.6566 - acc: 0.7594\n",
            "Epoch 96/100\n",
            "60000/60000 [==============================] - 10s 170us/step - loss: 0.6575 - acc: 0.7604\n",
            "Epoch 97/100\n",
            "60000/60000 [==============================] - 10s 169us/step - loss: 0.6566 - acc: 0.7606\n",
            "Epoch 98/100\n",
            "60000/60000 [==============================] - 10s 169us/step - loss: 0.6564 - acc: 0.7596\n",
            "Epoch 99/100\n",
            "60000/60000 [==============================] - 10s 168us/step - loss: 0.6544 - acc: 0.7604\n",
            "Epoch 100/100\n",
            "60000/60000 [==============================] - 10s 168us/step - loss: 0.6542 - acc: 0.7620\n"
          ],
          "name": "stdout"
        }
      ]
    },
    {
      "metadata": {
        "id": "oUhKFmtoWdAY",
        "colab_type": "code",
        "colab": {
          "base_uri": "https://localhost:8080/",
          "height": 34
        },
        "outputId": "cda1778e-b7e3-4536-a21b-639906a3876d"
      },
      "cell_type": "code",
      "source": [
        "# Evaluate the model \n",
        "score = trans_model.evaluate(test_features_flat, y_test, verbose=0)\n",
        "print('Test Loss and Accuracy:', score)"
      ],
      "execution_count": 13,
      "outputs": [
        {
          "output_type": "stream",
          "text": [
            "Test Loss and Accuracy: [0.6929168213844299, 0.7504]\n"
          ],
          "name": "stdout"
        }
      ]
    },
    {
      "metadata": {
        "id": "TEmoJ-6_d0Uo",
        "colab_type": "code",
        "colab": {
          "base_uri": "https://localhost:8080/",
          "height": 571
        },
        "outputId": "7e744a42-8145-403d-8ca0-d54e977645ea"
      },
      "cell_type": "code",
      "source": [
        "#Evaluate\n",
        "\n",
        "plt.plot(transfer_model.history['loss'])\n",
        "plt.ylabel('loss')\n",
        "plt.xlabel('epoch')\n",
        "plt.title('loss')\n",
        "plt.show()\n",
        "plt.plot(transfer_model.history['acc'])\n",
        "plt.ylabel('loss')\n",
        "plt.xlabel('epoch')\n",
        "plt.title('accuracy')\n",
        "plt.show()"
      ],
      "execution_count": 16,
      "outputs": [
        {
          "output_type": "display_data",
          "data": {
            "image/png": "[encoded data removed]",
            "text/plain": [
              "<matplotlib.figure.Figure at 0x7f8a42f986d8>"
            ]
          },
          "metadata": {
            "tags": []
          }
        },
        {
          "output_type": "display_data",
          "data": {
            "image/png": "[encoded data removed]",
            "text/plain": [
              "<matplotlib.figure.Figure at 0x7f8a42f59d30>"
            ]
          },
          "metadata": {
            "tags": []
          }
        }
      ]
    },
    {
      "metadata": {
        "id": "h2OWoJjSeips",
        "colab_type": "text"
      },
      "cell_type": "markdown",
      "source": [
        "# 3 Text classification"
      ]
    },
    {
      "metadata": {
        "id": "yO4p52DRffao",
        "colab_type": "text"
      },
      "cell_type": "markdown",
      "source": [
        "## 3.1 RNN\n",
        "\n",
        "Build and train a Recurrent Neural Network to solve this text classification task. You can use any type of RNN you wish (SimpleRNN, GRU, LSTM)."
      ]
    },
    {
      "metadata": {
        "id": "C8oUNTGk7BE1",
        "colab_type": "code",
        "colab": {
          "base_uri": "https://localhost:8080/",
          "height": 34
        },
        "outputId": "d642a1e8-30fe-4625-9923-7bb57c5f86c0"
      },
      "cell_type": "code",
      "source": [
        "%matplotlib inline\n",
        "\n",
        "import numpy as np\n",
        "import tensorflow as tf\n",
        "import pandas as pd\n",
        "import matplotlib.pyplot as plt\n",
        "import skimage\n",
        "import itertools\n",
        "\n",
        "from string import printable\n",
        "from keras import backend as K\n",
        "from skimage.transform import resize\n",
        "from keras.datasets import fashion_mnist\n",
        "from keras import regularizers\n",
        "from keras import callbacks\n",
        "from keras.models import Sequential, Model\n",
        "from keras.layers import Embedding, LSTM, Dense, Dropout, Activation, Flatten, Input, Conv2D, MaxPooling2D, UpSampling2D\n",
        "from keras.layers import BatchNormalization, Lambda, Convolution1D, Convolution2D, ELU, concatenate\n",
        "from keras.utils import np_utils\n",
        "from keras.applications.vgg16 import VGG16, preprocess_input, decode_predictions\n",
        "from keras.preprocessing import image\n",
        "from keras.preprocessing.image import img_to_array, array_to_img\n",
        "from keras.preprocessing.text import Tokenizer\n",
        "from keras.preprocessing.sequence import pad_sequences\n",
        "from sklearn.model_selection import train_test_split\n",
        "from sklearn.feature_extraction.text import CountVectorizer\n",
        "from sklearn.metrics import roc_curve, auc\n",
        "from keras.optimizers import SGD, Adam, RMSprop\n",
        "from keras.layers.advanced_activations import LeakyReLU\n",
        "from keras.callbacks import EarlyStopping  "
      ],
      "execution_count": 2,
      "outputs": [
        {
          "output_type": "stream",
          "text": [
            "Using TensorFlow backend.\n"
          ],
          "name": "stderr"
        }
      ]
    },
    {
      "metadata": {
        "id": "E5ufbeJRoKVN",
        "colab_type": "code",
        "colab": {
          "base_uri": "https://localhost:8080/",
          "height": 105
        },
        "outputId": "44b98058-7ab4-457e-ab36-c45333f83abf"
      },
      "cell_type": "code",
      "source": [
        "import urllib3  # the lib that handles the url stuff\n",
        "http = urllib3.PoolManager()\n",
        "r_benign = http.request('GET', 'https://s3.amazonaws.com/anly-590/url-classification/benign-urls.txt')\n",
        "beni=r_benign.data.decode('utf-8').splitlines()\n",
        "beni=[w for w in beni if \"#\" not in w]\n",
        "\n",
        "r_mali = http.request('GET', 'https://s3.amazonaws.com/anly-590/url-classification/malicious-urls.txt')\n",
        "mali=r_mali.data.decode('utf-8').splitlines()\n",
        "mali=[w for w in mali if \"#\" not in w]\n"
      ],
      "execution_count": 7,
      "outputs": [
        {
          "output_type": "stream",
          "text": [
            "/usr/local/lib/python3.6/dist-packages/urllib3/connectionpool.py:858: InsecureRequestWarning: Unverified HTTPS request is being made. Adding certificate verification is strongly advised. See: https://urllib3.readthedocs.io/en/latest/advanced-usage.html#ssl-warnings\n",
            "  InsecureRequestWarning)\n",
            "/usr/local/lib/python3.6/dist-packages/urllib3/connectionpool.py:858: InsecureRequestWarning: Unverified HTTPS request is being made. Adding certificate verification is strongly advised. See: https://urllib3.readthedocs.io/en/latest/advanced-usage.html#ssl-warnings\n",
            "  InsecureRequestWarning)\n"
          ],
          "name": "stderr"
        }
      ]
    },
    {
      "metadata": {
        "id": "I3wdf6h31AOJ",
        "colab_type": "code",
        "colab": {}
      },
      "cell_type": "code",
      "source": [
        "import numpy as np\n",
        "import pandas as pd\n",
        "from string import printable\n",
        "from keras.preprocessing.sequence import pad_sequences\n",
        "from sklearn.model_selection import train_test_split\n",
        "\n",
        "x_train = beni + mali\n",
        "y_train = np.concatenate( [ np.ones(len(beni)), np.zeros(len(mali)) ])\n",
        "df = pd.DataFrame({'urls':x_train, 'label':y_train})\n",
        "\n",
        "# considering Python's 100 printable characters only and convert them to int\n",
        "url_int_tokens = [[printable.index(x) + 1 for x in url if x in printable] for url in df.urls]\n",
        "\n",
        "#  All URLs have to be of the same length. This results in cropping or padding with zeros. I choose a max length of 75 characters.\n",
        "max_len=75\n",
        "X = pad_sequences(url_int_tokens, maxlen=max_len)\n",
        " \n",
        "# convert labels form df to numpy array\n",
        "target = np.array(df.label)\n",
        "X_train, X_test, target_train, target_test = train_test_split(X, target, test_size=0.25, random_state=33)"
      ],
      "execution_count": 0,
      "outputs": []
    },
    {
      "metadata": {
        "id": "zvkY5flK3RPQ",
        "colab_type": "code",
        "colab": {
          "base_uri": "https://localhost:8080/",
          "height": 411
        },
        "outputId": "0bdaf15a-f62f-4f96-8498-86279d7f2917"
      },
      "cell_type": "code",
      "source": [
        "from keras import regularizers\n",
        "from keras.layers import Embedding, LSTM, Dense, Dropout, Activation, Flatten, Input, Conv2D\n",
        "from keras.models import Sequential, Model\n",
        "from keras.optimizers import SGD, Adam, RMSprop\n",
        "# LSTM Model\n",
        "\n",
        "main_input = Input(shape=(75,), dtype='int32', name='main_input')\n",
        "# Embedding layer\n",
        "emb = Embedding(input_dim=100, output_dim=32, input_length=75,\n",
        "            dropout=0.2, W_regularizer=regularizers.l2(1e-4))(main_input) \n",
        "\n",
        "# LSTM layer\n",
        "lstm = LSTM(32)(emb)\n",
        "lstm = Dropout(0.5)(lstm)\n",
        "\n",
        "# Output layer (last fully connected layer)\n",
        "output = Dense(1, activation='sigmoid', name='output')(lstm)\n",
        "\n",
        "# Compile model and define optimizer\n",
        "model = Model(input=[main_input], output=[output])\n",
        "adam = Adam(lr=1e-4, beta_1=0.9, beta_2=0.999, epsilon=1e-08, decay=0.0)\n",
        "model.compile(optimizer=adam, loss='binary_crossentropy', metrics=['accuracy'])\n",
        "model.summary()"
      ],
      "execution_count": 10,
      "outputs": [
        {
          "output_type": "stream",
          "text": [
            "/usr/local/lib/python3.6/dist-packages/ipykernel_launcher.py:10: UserWarning: The `dropout` argument is no longer support in `Embedding`. You can apply a `keras.layers.SpatialDropout1D` layer right after the `Embedding` layer to get the same behavior.\n",
            "  # Remove the CWD from sys.path while we load stuff.\n",
            "/usr/local/lib/python3.6/dist-packages/ipykernel_launcher.py:10: UserWarning: Update your `Embedding` call to the Keras 2 API: `Embedding(input_dim=100, output_dim=32, input_length=75, embeddings_regularizer=<keras.reg...)`\n",
            "  # Remove the CWD from sys.path while we load stuff.\n"
          ],
          "name": "stderr"
        },
        {
          "output_type": "stream",
          "text": [
            "_________________________________________________________________\n",
            "Layer (type)                 Output Shape              Param #   \n",
            "=================================================================\n",
            "main_input (InputLayer)      (None, 75)                0         \n",
            "_________________________________________________________________\n",
            "embedding_2 (Embedding)      (None, 75, 32)            3200      \n",
            "_________________________________________________________________\n",
            "lstm_1 (LSTM)                (None, 32)                8320      \n",
            "_________________________________________________________________\n",
            "dropout_8 (Dropout)          (None, 32)                0         \n",
            "_________________________________________________________________\n",
            "output (Dense)               (None, 1)                 33        \n",
            "=================================================================\n",
            "Total params: 11,553\n",
            "Trainable params: 11,553\n",
            "Non-trainable params: 0\n",
            "_________________________________________________________________\n"
          ],
          "name": "stdout"
        },
        {
          "output_type": "stream",
          "text": [
            "/usr/local/lib/python3.6/dist-packages/ipykernel_launcher.py:20: UserWarning: Update your `Model` call to the Keras 2 API: `Model(inputs=[<tf.Tenso..., outputs=[<tf.Tenso...)`\n"
          ],
          "name": "stderr"
        }
      ]
    },
    {
      "metadata": {
        "id": "0dny7Q7c4gdi",
        "colab_type": "code",
        "colab": {
          "base_uri": "https://localhost:8080/",
          "height": 374
        },
        "outputId": "a3c8b127-7ecf-4b18-edf3-391a0238a3b6"
      },
      "cell_type": "code",
      "source": [
        "from keras.callbacks import EarlyStopping \n",
        "eary_stopping = EarlyStopping(\n",
        "    monitor='loss',\n",
        "    min_delta=0,\n",
        "    patience=10,\n",
        "    verbose=1,\n",
        "    mode='auto')\n",
        "\n",
        "\n",
        "model.fit(X_train, target_train, epochs=10, batch_size=32, callbacks=[eary_stopping])"
      ],
      "execution_count": 26,
      "outputs": [
        {
          "output_type": "stream",
          "text": [
            "Epoch 1/10\n",
            "50483/50483 [==============================] - 85s 2ms/step - loss: 0.0191 - acc: 0.9916\n",
            "Epoch 2/10\n",
            "50483/50483 [==============================] - 84s 2ms/step - loss: 0.0194 - acc: 0.9917\n",
            "Epoch 3/10\n",
            "50483/50483 [==============================] - 83s 2ms/step - loss: 0.0194 - acc: 0.9912\n",
            "Epoch 4/10\n",
            "50483/50483 [==============================] - 83s 2ms/step - loss: 0.0192 - acc: 0.9911\n",
            "Epoch 5/10\n",
            "50483/50483 [==============================] - 84s 2ms/step - loss: 0.0194 - acc: 0.9912\n",
            "Epoch 6/10\n",
            "50483/50483 [==============================] - 84s 2ms/step - loss: 0.0193 - acc: 0.9915\n",
            "Epoch 7/10\n",
            "50483/50483 [==============================] - 84s 2ms/step - loss: 0.0192 - acc: 0.9914\n",
            "Epoch 8/10\n",
            "50483/50483 [==============================] - 84s 2ms/step - loss: 0.0188 - acc: 0.9915\n",
            "Epoch 9/10\n",
            "50483/50483 [==============================] - 84s 2ms/step - loss: 0.0190 - acc: 0.9914\n",
            "Epoch 10/10\n",
            "50483/50483 [==============================] - 84s 2ms/step - loss: 0.0188 - acc: 0.9917\n"
          ],
          "name": "stdout"
        },
        {
          "output_type": "execute_result",
          "data": {
            "text/plain": [
              "<keras.callbacks.History at 0x7f517ece7ef0>"
            ]
          },
          "metadata": {
            "tags": []
          },
          "execution_count": 26
        }
      ]
    },
    {
      "metadata": {
        "id": "isnh6n96chNm",
        "colab_type": "code",
        "colab": {
          "base_uri": "https://localhost:8080/",
          "height": 68
        },
        "outputId": "0bcde370-e59d-4cdd-8972-4058f93f5b70"
      },
      "cell_type": "code",
      "source": [
        "loss, accuracy = model.evaluate(X_test, target_test, verbose=1)\n",
        "print('Accuracy: ', accuracy, '\\n')"
      ],
      "execution_count": 27,
      "outputs": [
        {
          "output_type": "stream",
          "text": [
            "16828/16828 [==============================] - 5s 306us/step\n",
            "Accuracy:  0.98924411690544 \n",
            "\n"
          ],
          "name": "stdout"
        }
      ]
    },
    {
      "metadata": {
        "id": "9NVs9D1EAPkF",
        "colab_type": "text"
      },
      "cell_type": "markdown",
      "source": [
        "## 3.2 CNN\n",
        "\n",
        "Build and train a 1D CNN for this text classification task. You might gain some insight and inspiration from these text classification approaches:\n",
        "• http://www.aclweb.org/anthology/D14-1181 • https://arxiv.org/abs/1702.08568"
      ]
    },
    {
      "metadata": {
        "id": "MJk9ahN1rqNH",
        "colab_type": "code",
        "colab": {
          "base_uri": "https://localhost:8080/",
          "height": 71
        },
        "outputId": "50eeb6ef-c06a-420e-cc7f-4e4578ec6101"
      },
      "cell_type": "code",
      "source": [
        "# CNN Model\n",
        "\n",
        "max_len=75\n",
        "emb_dim=32\n",
        "max_vocab_len=100\n",
        "W_reg=regularizers.l2(1e-4)\n",
        "\n",
        "# Input\n",
        "main_input = Input(shape=(max_len,), dtype='int32', name='main_input')\n",
        "# Embedding layer\n",
        "emb = Embedding(input_dim=max_vocab_len, output_dim=emb_dim, input_length=max_len,\n",
        "            W_regularizer=W_reg)(main_input) \n",
        "emb = Dropout(0.25)(emb)\n"
      ],
      "execution_count": 28,
      "outputs": [
        {
          "output_type": "stream",
          "text": [
            "/usr/local/lib/python3.6/dist-packages/ipykernel_launcher.py:11: UserWarning: Update your `Embedding` call to the Keras 2 API: `Embedding(input_dim=100, output_dim=32, input_length=75, embeddings_regularizer=<keras.reg...)`\n",
            "  # This is added back by InteractiveShellApp.init_path()\n"
          ],
          "name": "stderr"
        }
      ]
    },
    {
      "metadata": {
        "id": "7J4Gu5WFDtHT",
        "colab_type": "code",
        "colab": {
          "base_uri": "https://localhost:8080/",
          "height": 173
        },
        "outputId": "50336bd5-56f0-465f-db4b-1e3e6f5c014d"
      },
      "cell_type": "code",
      "source": [
        "def sum_1d(X):\n",
        "    return K.sum(X, axis=1)\n",
        "\n",
        "def get_conv_layer(emb, kernel_size=5, filters=256):\n",
        "    # Conv layer\n",
        "    conv = Convolution1D(kernel_size=kernel_size, filters=filters, \\\n",
        "                 border_mode='same')(emb)\n",
        "    conv = ELU()(conv)\n",
        "\n",
        "    conv = Lambda(sum_1d, output_shape=(filters,))(conv)\n",
        "    #conv = BatchNormalization(mode=0)(conv)\n",
        "    conv = Dropout(0.5)(conv)\n",
        "    return conv\n",
        "\n",
        "# Multiple Conv Layers\n",
        "\n",
        "# calling custom conv function from above\n",
        "conv1 = get_conv_layer(emb, kernel_size=2, filters=256)\n",
        "conv2 = get_conv_layer(emb, kernel_size=3, filters=256)\n",
        "conv3 = get_conv_layer(emb, kernel_size=4, filters=256)\n",
        "conv4 = get_conv_layer(emb, kernel_size=5, filters=256)"
      ],
      "execution_count": 29,
      "outputs": [
        {
          "output_type": "stream",
          "text": [
            "/usr/local/lib/python3.6/dist-packages/ipykernel_launcher.py:6: UserWarning: Update your `Conv1D` call to the Keras 2 API: `Conv1D(kernel_size=2, filters=256, padding=\"same\")`\n",
            "  \n",
            "/usr/local/lib/python3.6/dist-packages/ipykernel_launcher.py:6: UserWarning: Update your `Conv1D` call to the Keras 2 API: `Conv1D(kernel_size=3, filters=256, padding=\"same\")`\n",
            "  \n",
            "/usr/local/lib/python3.6/dist-packages/ipykernel_launcher.py:6: UserWarning: Update your `Conv1D` call to the Keras 2 API: `Conv1D(kernel_size=4, filters=256, padding=\"same\")`\n",
            "  \n",
            "/usr/local/lib/python3.6/dist-packages/ipykernel_launcher.py:6: UserWarning: Update your `Conv1D` call to the Keras 2 API: `Conv1D(kernel_size=5, filters=256, padding=\"same\")`\n",
            "  \n"
          ],
          "name": "stderr"
        }
      ]
    },
    {
      "metadata": {
        "id": "yOomepTRGFC1",
        "colab_type": "code",
        "colab": {
          "base_uri": "https://localhost:8080/",
          "height": 1278
        },
        "outputId": "91af0af7-37a6-4e5a-ab16-53e77ab7945e"
      },
      "cell_type": "code",
      "source": [
        "# Fully Connected Layers\n",
        "merged = concatenate([conv1,conv2,conv3,conv4], axis=1)\n",
        "\n",
        "hidden1 = Dense(1024)(merged)\n",
        "hidden1 = ELU()(hidden1)\n",
        "hidden1 = BatchNormalization(mode=0)(hidden1)\n",
        "hidden1 = Dropout(0.5)(hidden1)\n",
        "\n",
        "hidden2 = Dense(1024)(hidden1)\n",
        "hidden2 = ELU()(hidden2)\n",
        "hidden2 = BatchNormalization(mode=0)(hidden2)\n",
        "hidden2 = Dropout(0.5)(hidden2)\n",
        "\n",
        "# Output layer (last fully connected layer)\n",
        "output = Dense(1, activation='sigmoid', name='output')(hidden2)\n",
        "\n",
        "# Compile model and define optimizer\n",
        "cnn_model = Model(input=[main_input], output=[output])\n",
        "adam = Adam(lr=1e-4, beta_1=0.9, beta_2=0.999, epsilon=1e-08, decay=0.0)\n",
        "cnn_model.compile(optimizer=adam, loss='binary_crossentropy', metrics=['accuracy'])\n",
        "cnn_model.summary()"
      ],
      "execution_count": 30,
      "outputs": [
        {
          "output_type": "stream",
          "text": [
            "/usr/local/lib/python3.6/dist-packages/ipykernel_launcher.py:5: UserWarning: Update your `BatchNormalization` call to the Keras 2 API: `BatchNormalization()`\n",
            "  \"\"\"\n",
            "/usr/local/lib/python3.6/dist-packages/ipykernel_launcher.py:10: UserWarning: Update your `BatchNormalization` call to the Keras 2 API: `BatchNormalization()`\n",
            "  # Remove the CWD from sys.path while we load stuff.\n"
          ],
          "name": "stderr"
        },
        {
          "output_type": "stream",
          "text": [
            "__________________________________________________________________________________________________\n",
            "Layer (type)                    Output Shape         Param #     Connected to                     \n",
            "==================================================================================================\n",
            "main_input (InputLayer)         (None, 75)           0                                            \n",
            "__________________________________________________________________________________________________\n",
            "embedding_6 (Embedding)         (None, 75, 32)       3200        main_input[0][0]                 \n",
            "__________________________________________________________________________________________________\n",
            "dropout_12 (Dropout)            (None, 75, 32)       0           embedding_6[0][0]                \n",
            "__________________________________________________________________________________________________\n",
            "conv1d_5 (Conv1D)               (None, 75, 256)      16640       dropout_12[0][0]                 \n",
            "__________________________________________________________________________________________________\n",
            "conv1d_6 (Conv1D)               (None, 75, 256)      24832       dropout_12[0][0]                 \n",
            "__________________________________________________________________________________________________\n",
            "conv1d_7 (Conv1D)               (None, 75, 256)      33024       dropout_12[0][0]                 \n",
            "__________________________________________________________________________________________________\n",
            "conv1d_8 (Conv1D)               (None, 75, 256)      41216       dropout_12[0][0]                 \n",
            "__________________________________________________________________________________________________\n",
            "elu_7 (ELU)                     (None, 75, 256)      0           conv1d_5[0][0]                   \n",
            "__________________________________________________________________________________________________\n",
            "elu_8 (ELU)                     (None, 75, 256)      0           conv1d_6[0][0]                   \n",
            "__________________________________________________________________________________________________\n",
            "elu_9 (ELU)                     (None, 75, 256)      0           conv1d_7[0][0]                   \n",
            "__________________________________________________________________________________________________\n",
            "elu_10 (ELU)                    (None, 75, 256)      0           conv1d_8[0][0]                   \n",
            "__________________________________________________________________________________________________\n",
            "lambda_5 (Lambda)               (None, 256)          0           elu_7[0][0]                      \n",
            "__________________________________________________________________________________________________\n",
            "lambda_6 (Lambda)               (None, 256)          0           elu_8[0][0]                      \n",
            "__________________________________________________________________________________________________\n",
            "lambda_7 (Lambda)               (None, 256)          0           elu_9[0][0]                      \n",
            "__________________________________________________________________________________________________\n",
            "lambda_8 (Lambda)               (None, 256)          0           elu_10[0][0]                     \n",
            "__________________________________________________________________________________________________\n",
            "dropout_13 (Dropout)            (None, 256)          0           lambda_5[0][0]                   \n",
            "__________________________________________________________________________________________________\n",
            "dropout_14 (Dropout)            (None, 256)          0           lambda_6[0][0]                   \n",
            "__________________________________________________________________________________________________\n",
            "dropout_15 (Dropout)            (None, 256)          0           lambda_7[0][0]                   \n",
            "__________________________________________________________________________________________________\n",
            "dropout_16 (Dropout)            (None, 256)          0           lambda_8[0][0]                   \n",
            "__________________________________________________________________________________________________\n",
            "concatenate_2 (Concatenate)     (None, 1024)         0           dropout_13[0][0]                 \n",
            "                                                                 dropout_14[0][0]                 \n",
            "                                                                 dropout_15[0][0]                 \n",
            "                                                                 dropout_16[0][0]                 \n",
            "__________________________________________________________________________________________________\n",
            "dense_3 (Dense)                 (None, 1024)         1049600     concatenate_2[0][0]              \n",
            "__________________________________________________________________________________________________\n",
            "elu_11 (ELU)                    (None, 1024)         0           dense_3[0][0]                    \n",
            "__________________________________________________________________________________________________\n",
            "batch_normalization_3 (BatchNor (None, 1024)         4096        elu_11[0][0]                     \n",
            "__________________________________________________________________________________________________\n",
            "dropout_17 (Dropout)            (None, 1024)         0           batch_normalization_3[0][0]      \n",
            "__________________________________________________________________________________________________\n",
            "dense_4 (Dense)                 (None, 1024)         1049600     dropout_17[0][0]                 \n",
            "__________________________________________________________________________________________________\n",
            "elu_12 (ELU)                    (None, 1024)         0           dense_4[0][0]                    \n",
            "__________________________________________________________________________________________________\n",
            "batch_normalization_4 (BatchNor (None, 1024)         4096        elu_12[0][0]                     \n",
            "__________________________________________________________________________________________________\n",
            "dropout_18 (Dropout)            (None, 1024)         0           batch_normalization_4[0][0]      \n",
            "__________________________________________________________________________________________________\n",
            "output (Dense)                  (None, 1)            1025        dropout_18[0][0]                 \n",
            "==================================================================================================\n",
            "Total params: 2,227,329\n",
            "Trainable params: 2,223,233\n",
            "Non-trainable params: 4,096\n",
            "__________________________________________________________________________________________________\n"
          ],
          "name": "stdout"
        },
        {
          "output_type": "stream",
          "text": [
            "/usr/local/lib/python3.6/dist-packages/ipykernel_launcher.py:17: UserWarning: Update your `Model` call to the Keras 2 API: `Model(inputs=[<tf.Tenso..., outputs=[<tf.Tenso...)`\n"
          ],
          "name": "stderr"
        }
      ]
    },
    {
      "metadata": {
        "id": "fXQ4h6b8GS1q",
        "colab_type": "code",
        "colab": {
          "base_uri": "https://localhost:8080/",
          "height": 374
        },
        "outputId": "6c49f76a-f5ed-4ad4-8e25-fd216abe31f0"
      },
      "cell_type": "code",
      "source": [
        "epochs = 10\n",
        "batch_size = 25\n",
        "\n",
        "eary_stopping = EarlyStopping(\n",
        "    monitor='loss',\n",
        "    min_delta=0,\n",
        "    patience=10,\n",
        "    verbose=1,\n",
        "    mode='auto')\n",
        "\n",
        "cnn_model.fit(X_train, target_train, epochs=epochs, batch_size=batch_size, callbacks=[eary_stopping])"
      ],
      "execution_count": 31,
      "outputs": [
        {
          "output_type": "stream",
          "text": [
            "Epoch 1/10\n",
            "50483/50483 [==============================] - 196s 4ms/step - loss: 0.3013 - acc: 0.8796\n",
            "Epoch 2/10\n",
            "50483/50483 [==============================] - 194s 4ms/step - loss: 0.1158 - acc: 0.9747\n",
            "Epoch 3/10\n",
            "50483/50483 [==============================] - 193s 4ms/step - loss: 0.1030 - acc: 0.9761\n",
            "Epoch 4/10\n",
            "50483/50483 [==============================] - 194s 4ms/step - loss: 0.0914 - acc: 0.9771\n",
            "Epoch 5/10\n",
            "50483/50483 [==============================] - 193s 4ms/step - loss: 0.0780 - acc: 0.9773\n",
            "Epoch 6/10\n",
            "50483/50483 [==============================] - 194s 4ms/step - loss: 0.0724 - acc: 0.9782\n",
            "Epoch 7/10\n",
            "50483/50483 [==============================] - 194s 4ms/step - loss: 0.0624 - acc: 0.9797\n",
            "Epoch 8/10\n",
            "50483/50483 [==============================] - 195s 4ms/step - loss: 0.0584 - acc: 0.9806\n",
            "Epoch 9/10\n",
            "50483/50483 [==============================] - 195s 4ms/step - loss: 0.0520 - acc: 0.9813\n",
            "Epoch 10/10\n",
            "50483/50483 [==============================] - 195s 4ms/step - loss: 0.0447 - acc: 0.9828\n"
          ],
          "name": "stdout"
        },
        {
          "output_type": "execute_result",
          "data": {
            "text/plain": [
              "<keras.callbacks.History at 0x7f517df3df60>"
            ]
          },
          "metadata": {
            "tags": []
          },
          "execution_count": 31
        }
      ]
    },
    {
      "metadata": {
        "id": "zZx-NBPdoxKP",
        "colab_type": "code",
        "colab": {
          "base_uri": "https://localhost:8080/",
          "height": 68
        },
        "outputId": "8ba243a5-e542-4d73-c879-98c318018222"
      },
      "cell_type": "code",
      "source": [
        "loss, accuracy = cnn_model.evaluate(X_test, target_test, verbose=1)\n",
        "print('Accuracy:', accuracy, '\\n')"
      ],
      "execution_count": 32,
      "outputs": [
        {
          "output_type": "stream",
          "text": [
            "16828/16828 [==============================] - 16s 938us/step\n",
            "Accuracy: 0.9834799144283337 \n",
            "\n"
          ],
          "name": "stdout"
        }
      ]
    },
    {
      "metadata": {
        "id": "C48zPpE9pP8s",
        "colab_type": "text"
      },
      "cell_type": "markdown",
      "source": [
        "## 3.3 \n",
        "Be sure to directly compare your two methods with an ROC curve or similar validation method. Don’t forget to create a train-test split."
      ]
    },
    {
      "metadata": {
        "id": "qiUGzRdCpPFM",
        "colab_type": "code",
        "colab": {
          "base_uri": "https://localhost:8080/",
          "height": 294
        },
        "outputId": "89c3b34b-3efe-4ef1-adf5-1129afce1c19"
      },
      "cell_type": "code",
      "source": [
        "# LSTM and CNN ROC Curve\n",
        "y_pred_keras = model.predict(X_test).ravel()\n",
        "fpr_keras, tpr_keras, thresholds_keras = roc_curve(target_test, y_pred_keras)\n",
        "auc_keras = auc(fpr_keras, tpr_keras)\n",
        "\n",
        "cnn_y_pred_keras = cnn_model.predict(X_test).ravel()\n",
        "cnn_fpr_keras, cnn_tpr_keras, cnn_thresholds_keras = roc_curve(target_test, cnn_y_pred_keras)\n",
        "cnn_auc_keras = auc(cnn_fpr_keras, cnn_tpr_keras)\n",
        "\n",
        "plt.figure(1)\n",
        "plt.plot([0, 1], [0, 1], 'k--')\n",
        "plt.plot(fpr_keras, tpr_keras, label='LSTM (area = {:.3f})'.format(auc_keras))\n",
        "plt.plot(cnn_fpr_keras, cnn_tpr_keras, label='CNN (area = {:.3f})'.format(cnn_auc_keras))\n",
        "plt.xlabel('False positive rate')\n",
        "plt.ylabel('True positive rate')\n",
        "plt.title('ROC curve')\n",
        "plt.legend(loc='best')\n",
        "plt.show()"
      ],
      "execution_count": 33,
      "outputs": [
        {
          "output_type": "display_data",
          "data": {
            "image/png": "[encoded data removed]",
            "text/plain": [
              "<matplotlib.figure.Figure at 0x7f517dba7748>"
            ]
          },
          "metadata": {
            "tags": []
          }
        }
      ]
    }
  ]
}